{
 "cells": [
  {
   "cell_type": "code",
   "execution_count": 1,
   "metadata": {},
   "outputs": [],
   "source": [
    "import cv2\n",
    "import numpy as np\n",
    "import skimage as sk\n",
    "import matplotlib.pyplot as plt\n",
    "import scipy\n",
    "import yaml"
   ]
  },
  {
   "cell_type": "code",
   "execution_count": 8,
   "metadata": {},
   "outputs": [],
   "source": [
    "# Загрузка параметров из YAML файла\n",
    "with open('./struct_params.yaml', 'r') as file:\n",
    "    data = yaml.safe_load(file)"
   ]
  },
  {
   "cell_type": "markdown",
   "metadata": {},
   "source": [
    "parser:\n",
    "\n",
    "--frame --params parameters_frame --figures BigCircle SmallCircle --center --figures BigCircle\n",
    "\n",
    "class Figure: определение фигуры, ее параметры (размеры, расположение, поля, скругления....)\n",
    "\n",
    "class Frame: определение рамки, ее параметры (расположение рамки, количесвто рамок), фигуры в рамке, отрисовка рамки \n",
    "\n",
    "class Center: определение центра, фигуры центра"
   ]
  },
  {
   "cell_type": "code",
   "execution_count": 3,
   "metadata": {},
   "outputs": [],
   "source": [
    "class Figure():\n",
    "    def __init__(self, figure_class):\n",
    "        self.name = figure_class['FigureClass']\n",
    "        self.margin = figure_class['figure_params']['margin']\n",
    "        self.gap = figure_class['figure_params']['gap'] \n",
    "        self.num = figure_class['figure_params']['num']\n",
    "        self.h = figure_class['figure_params']['h']\n",
    "        self.w = figure_class['figure_params']['w']\n",
    "        self.radius = figure_class['figure_params']['radius']\n",
    "        self.color = figure_class['figure_params']['color']\n",
    "        self.def_angle = figure_class['figure_params']['default_angle']\n",
    "\n",
    "        if 'Circle' in self.name:\n",
    "            self.h = 2 * self.radius\n",
    "            self.w = 2 * self.radius\n",
    "\n",
    "        self.corner_radius = np.minimum(self.h, self.w)//2\n",
    "        self.border_width = int((700 / np.tan(np.radians(self.def_angle))) // 12)\n",
    "        print(self.border_width)\n",
    "        self.border_color = 128     \n",
    "\n",
    "\n",
    "    def draw_figure(self):\n",
    "        if 'Circle' in self.name:\n",
    "            img = np.zeros((2*self.radius + 2*self.margin, 2*self.radius + 2*self.margin), dtype=np.float32)\n",
    "            img = cv2.circle(img, (img.shape[0]//2, img.shape[1]//2), self.radius, 255, -1)\n",
    "            img = cv2.circle(img, (img.shape[0]//2, img.shape[1]//2), self.radius, 255, -1)\n",
    "\n",
    "        else:\n",
    "            # img = np.zeros_like((2*np.max(self.h, self.w) + 2*self.margin, 2*np.max(self.h, self.w) + 2*self.margin), dtype=np.float32)\n",
    "            img = cv2.circle(img, (img.shape[0]//2, img.shape[1]//2), self.radius, 255, -1)\n",
    "        return img\n",
    "    \n",
    "    def draw(self, img, position):\n",
    "        if 'Circle' in self.name:\n",
    "            # print(self.radius + self.border_width)\n",
    "            # img = cv2.circle(img, position, self.radius + self.border_width, self.border_color, -1)\n",
    "            img = cv2.circle(img, position, self.radius, self.color, -1)\n",
    "            \n",
    "\n",
    "\n",
    "        else:\n",
    "            print(self.h)\n",
    "            print(img.shape[0]//4, img.shape[1]//4)\n",
    "            # print(position[0], position[1] + self.corner_radius)\n",
    "            # img = plt.scatter(position[0], position[1] + self.corner_radius)\n",
    "            for i in range(self.num):\n",
    "                # img = cv2.rectangle(img, (position[0] + self.corner_radius + self.border_width, position[1]), (position[0] + np.maximum(self.w, self.h) + self.corner_radius + self.border_width, position[1] + np.minimum(self.w, self.h)), self.border_color, -1)\n",
    "                # img = cv2.circle(img, (position[0] + self.corner_radius + self.border_width, position[1] + self.corner_radius + self.border_width), self.corner_radius + self.border_width, self.border_color, -1)\n",
    "                # img = cv2.circle(img, (position[0] + np.maximum(self.w, self.h) + self.corner_radius, position[1] + np.minimum(self.w, self.h) - self.corner_radius), self.corner_radius + self.border_width, self.border_color, -1)\n",
    "\n",
    "                img = cv2.rectangle(img, (position[0] + self.corner_radius, position[1]), (position[0] + np.maximum(self.w, self.h) + self.corner_radius, position[1] + np.minimum(self.w, self.h)), 255, -1)\n",
    "                img = cv2.circle(img, (position[0] + self.corner_radius, position[1] + self.corner_radius), self.corner_radius, self.color, -1)\n",
    "                img = cv2.circle(img, (position[0] + np.maximum(self.w, self.h) + self.corner_radius, position[1] + np.minimum(self.w, self.h) - self.corner_radius), self.corner_radius, self.color, -1)\n",
    "\n",
    "                position = (position[0], position[1] + np.minimum(self.w, self.h) + self.gap + 2*self.border_width)\n",
    "                print(position)\n",
    "\n",
    "        return img"
   ]
  },
  {
   "cell_type": "code",
   "execution_count": 4,
   "metadata": {},
   "outputs": [],
   "source": [
    "class Frame():\n",
    "    def __init__(self, img, edge_figure, linear_figure, num_linear_x, num_linear_y):\n",
    "        self.frame_y = img.shape[0]\n",
    "        self.frame_x = img.shape[1]\n",
    "\n",
    "        self.num_linear_x = num_linear_x\n",
    "        self.num_linear_y = num_linear_y\n",
    "        \n",
    "        self.num_edges = 4\n",
    "        self.edge_figure = edge_figure\n",
    "        self.linear_figure = linear_figure\n",
    "\n",
    "        self.top_left = (edge_figure.margin + edge_figure.h // 2, edge_figure.margin + edge_figure.w // 2)\n",
    "        self.bottom_right = (self.frame_x - edge_figure.margin - edge_figure.h // 2, \\\n",
    "                             self.frame_y - edge_figure.margin - edge_figure.w // 2)\n",
    "\n",
    "        self.top_right = (self.frame_x - edge_figure.margin - edge_figure.h // 2, \\\n",
    "                          edge_figure.margin + edge_figure.w // 2)\n",
    "        self.bottom_left = (edge_figure.margin + edge_figure.h // 2, \\\n",
    "                            self.frame_y - edge_figure.margin - edge_figure.w // 2)\n",
    "\n",
    "\n",
    "        self.hor_size = (self.frame_x - edge_figure.w - edge_figure.margin) - \\\n",
    "            (0+edge_figure.w + edge_figure.margin)\n",
    "        self.vert_size = (self.frame_y - edge_figure.h - edge_figure.margin) - \\\n",
    "            (0+edge_figure.h + edge_figure.margin)\n",
    "        self.start_point = (edge_figure.h + edge_figure.margin, \\\n",
    "                            edge_figure.w + edge_figure.margin)\n",
    "\n",
    "        self.positions = [self.top_left, self.bottom_right, self.top_right, self.bottom_left] # hor, vert\n",
    "\n",
    "        self.gap_hor = (((((self.frame_x - edge_figure.w - edge_figure.margin) - \\\n",
    "                           (0+edge_figure.w + edge_figure.margin)))//self.num_linear_x) - linear_figure.w)\n",
    "\n",
    "        self.gap_vert = (((((self.frame_y - edge_figure.h - edge_figure.margin) - \\\n",
    "                            (0+edge_figure.h + edge_figure.margin)))//self.num_linear_y) - linear_figure.h)\n",
    "        \n",
    "\n",
    "        self.gap_from_edge_figure_hor = self.edge_figure.h//2 + self.gap_hor\n",
    "        self.gap_from_edge_figure_vert = self.edge_figure.w//2 + self.gap_vert\n",
    "\n",
    "        \n",
    "        self.linear_positions = [(self.top_left[0] + self.gap_from_edge_figure_hor, self.top_left[0]),\\\n",
    "                                 (self.bottom_left[0] + self.gap_from_edge_figure_hor, self.bottom_left[1]),\\\n",
    "                                 (self.top_left[0], self.top_left[0] + self.gap_from_edge_figure_vert),\\\n",
    "                                    (self.top_right[0], self.top_right[1] + self.gap_from_edge_figure_vert)\n",
    "                                    ]\n",
    "    \n",
    "    def draw_frame(self, img):\n",
    "        for position in self.positions:\n",
    "            img = self.edge_figure.draw(img, position)\n",
    "\n",
    "        for position in self.linear_positions[0:2]:\n",
    "            start_hor = position[0]\n",
    "            start_vert = position[1]  \n",
    "            for i in range(0, self.num_linear_x):\n",
    "                hor = start_hor + i * (self.linear_figure.w + self.gap_hor + (self.linear_figure.w//2))\n",
    "                vert = start_vert\n",
    "                img = self.linear_figure.draw(img, (hor, vert))\n",
    "\n",
    "        for position in self.linear_positions[2:]:\n",
    "            start_hor = position[0]\n",
    "            start_vert = position[1]  \n",
    "            for i in range(0, self.num_linear_y):\n",
    "                hor = start_hor \n",
    "                vert = start_vert + i * (self.linear_figure.h + self.gap_vert + (self.linear_figure.h//2))\n",
    "                img = self.linear_figure.draw(img, (hor, vert))\n",
    "\n",
    "    \n",
    "    def get_frame_size(self):\n",
    "        frame_size = (self.vert_size, self.hor_size)\n",
    "        start_point = self.start_point\n",
    "        return frame_size, start_point\n"
   ]
  },
  {
   "cell_type": "code",
   "execution_count": 5,
   "metadata": {},
   "outputs": [],
   "source": [
    "class Center():\n",
    "    def __init__(self, start_point, size, figures, nums):\n",
    "        self.start_point = start_point\n",
    "        self.size = size\n",
    "        self.figures = figures\n",
    "        self.nums_figures = nums\n",
    "\n",
    "        self.nums_at_all  = np.sum(nums)\n",
    "\n",
    "        if self.nums_at_all % 3 == 0 and self.nums_at_all % 2:\n",
    "            self.size_s_hor = self.size[1] // 3\n",
    "            self.size_s_vert = self.size[0] // 2\n",
    "            self.num_hor = 3\n",
    "            self.num_vert = 2\n",
    "\n",
    "        elif self.nums_at_all == 2:\n",
    "            self.size_s_hor = self.size[1] // 2\n",
    "            self.size_s_vert = self.size[0]\n",
    "            self.num_hor = 2\n",
    "            self.num_vert = 1\n",
    "            \n",
    "        elif self.nums_at_all % 2 == 0 and self.nums_at_all % 3 != 0:\n",
    "            self.size_s_hor = self.size[1] // 2\n",
    "            self.size_s_vert = self.size[0] // 2\n",
    "            self.num_hor = 2\n",
    "            self.num_vert = 2\n",
    "\n",
    "        elif self.nums_at_all % 4 == 0 and self.nums_at_all % 3 == 0:\n",
    "            self.size_s_hor = self.size[1] // 4\n",
    "            self.size_s_vert = self.size[0] // 3\n",
    "            self.num_hor = 4\n",
    "            self.num_vert = 3\n",
    "\n",
    "        elif self.nums_at_all % 4 == 0 and self.nums_at_all % 5 == 0:\n",
    "            self.size_s_hor = self.size[1] // 5\n",
    "            self.size_s_vert = self.size[0] // 4\n",
    "            self.num_hor = 5\n",
    "            self.num_vert = 4\n",
    "\n",
    "        elif self.nums_at_all % 4 == 0 and self.nums_at_all // 4 > 1:\n",
    "            self.size_s_vert = self.size[0] // 4\n",
    "            self.size_s_hor = self.size[1] // self.size_s_vert\n",
    "            self.num_hor = self.size_s_vert\n",
    "            self.num_vert = 4\n",
    "\n",
    "        elif self.nums_at_all == 1:\n",
    "            self.size_s_hor = self.size[1]\n",
    "            self.size_s_vert = self.size[0]\n",
    "            self.num_hor = 1\n",
    "            self.num_vert = 1\n",
    "\n",
    "    def draw_center_figure(self, img):\n",
    "        start_hor = self.start_point[1]\n",
    "        start_vert = self.start_point[0]\n",
    "        for hor_figures in range(self.num_hor):\n",
    "            for i in self.nums_figures:\n",
    "                for figure in self.figures:\n",
    "                    center_hor = (start_hor + start_hor + self.size_s_hor) // 2\n",
    "                    center_vert = (start_vert + start_vert + self.size_s_vert) // 2\n",
    "                    figure.draw(img, (center_hor, center_vert))\n",
    "                    start_hor = start_hor + self.size_s_hor\n",
    "                self.nums_figures[self.nums_figures.index(i)] -= 1 \n",
    "\n",
    "        start_hor = self.start_point[1]\n",
    "        start_vert = self.start_point[0] + self.size_s_vert\n",
    "        for hor_figures in range(self.num_hor):\n",
    "            for i in self.nums_figures:\n",
    "                if i != 0:\n",
    "                    for figure in self.figures:\n",
    "                        center_hor = (start_hor + start_hor + self.size_s_hor) // 2\n",
    "                        center_vert = (start_vert + start_vert + self.size_s_vert) // 2\n",
    "                        figure.draw(img, (center_hor, center_vert))\n",
    "                        start_hor = start_hor + self.size_s_hor\n",
    "                    self.nums_figures[self.nums_figures.index(i)] -= 1\n",
    "\n",
    "        "
   ]
  },
  {
   "cell_type": "code",
   "execution_count": 6,
   "metadata": {},
   "outputs": [
    {
     "name": "stdout",
     "output_type": "stream",
     "text": [
      "10\n",
      "2\n",
      "2\n"
     ]
    },
    {
     "data": {
      "image/png": "[encoded data removed]",
      "text/plain": [
       "<Figure size 640x480 with 1 Axes>"
      ]
     },
     "metadata": {},
     "output_type": "display_data"
    },
    {
     "data": {
      "text/plain": [
       "True"
      ]
     },
     "execution_count": 6,
     "metadata": {},
     "output_type": "execute_result"
    }
   ],
   "source": [
    "img = np.zeros((768, 1024), dtype=np.float32)\n",
    "small_circle = Figure(data['figures'][0])\n",
    "big_circle = Figure(data['figures'][1])\n",
    "\n",
    "\n",
    "frame1 = Frame(img, big_circle, small_circle, 11, 5)\n",
    "frame1.draw_frame(img)\n",
    "frame1_size, start_center = frame1.get_frame_size()\n",
    "center1 = Center(start_center, frame1_size, [Figure(data['figures'][1])], [4])\n",
    "center1.draw_center_figure(img)\n",
    "plt.imshow(img, cmap='gray')\n",
    "plt.show()\n",
    "\n",
    "cv2.imwrite('./input_mask.png', img)"
   ]
  },
  {
   "cell_type": "code",
   "execution_count": 7,
   "metadata": {},
   "outputs": [
    {
     "name": "stdout",
     "output_type": "stream",
     "text": [
      "2\n",
      "720\n",
      "192 256\n",
      "(150, 234)\n",
      "(150, 318)\n",
      "(150, 402)\n",
      "(150, 486)\n",
      "(150, 570)\n",
      "(150, 654)\n"
     ]
    },
    {
     "data": {
      "text/plain": [
       "<matplotlib.image.AxesImage at 0x7f1c42fd04c0>"
      ]
     },
     "execution_count": 7,
     "metadata": {},
     "output_type": "execute_result"
    },
    {
     "data": {
      "image/png": "[encoded data removed]",
      "text/plain": [
       "<Figure size 640x480 with 1 Axes>"
      ]
     },
     "metadata": {},
     "output_type": "display_data"
    }
   ],
   "source": [
    "img = np.zeros((768, 1024), dtype=np.float32)\n",
    "line = Figure(data['figures'][2])\n",
    "img = line.draw(img, (150, 150))\n",
    "\n",
    "plt.imshow(img, cmap='gray')\n",
    "# plt.scatter(192, 256)"
   ]
  },
  {
   "cell_type": "code",
   "execution_count": 226,
   "metadata": {},
   "outputs": [
    {
     "data": {
      "text/plain": [
       "768"
      ]
     },
     "execution_count": 226,
     "metadata": {},
     "output_type": "execute_result"
    }
   ],
   "source": [
    "img.shape[0]"
   ]
  },
  {
   "cell_type": "code",
   "execution_count": 74,
   "metadata": {},
   "outputs": [
    {
     "ename": "NameError",
     "evalue": "name 'argparse' is not defined",
     "output_type": "error",
     "traceback": [
      "\u001b[0;31m---------------------------------------------------------------------------\u001b[0m",
      "\u001b[0;31mNameError\u001b[0m                                 Traceback (most recent call last)",
      "\u001b[1;32m/home/sasha/WSLProjects/sem_simulator/test_yaml.ipynb Cell 9\u001b[0m line \u001b[0;36m1\n\u001b[0;32m----> <a href='vscode-notebook-cell://wsl%2Bubuntu/home/sasha/WSLProjects/sem_simulator/test_yaml.ipynb#X14sdnNjb2RlLXJlbW90ZQ%3D%3D?line=0'>1</a>\u001b[0m parser \u001b[39m=\u001b[39m argparse\u001b[39m.\u001b[39mArgumentParser()\n\u001b[1;32m      <a href='vscode-notebook-cell://wsl%2Bubuntu/home/sasha/WSLProjects/sem_simulator/test_yaml.ipynb#X14sdnNjb2RlLXJlbW90ZQ%3D%3D?line=1'>2</a>\u001b[0m parser\u001b[39m.\u001b[39madd_argument(\u001b[39m'\u001b[39m\u001b[39m--model_name\u001b[39m\u001b[39m'\u001b[39m, \u001b[39mtype\u001b[39m\u001b[39m=\u001b[39m\u001b[39mstr\u001b[39m, default\u001b[39m=\u001b[39m\u001b[39m'\u001b[39m\u001b[39mscunet_color_real_psnr\u001b[39m\u001b[39m'\u001b[39m, help\u001b[39m=\u001b[39m\u001b[39m'\u001b[39m\u001b[39mscunet_color_real_psnr, scunet_color_real_gan\u001b[39m\u001b[39m'\u001b[39m)\n\u001b[1;32m      <a href='vscode-notebook-cell://wsl%2Bubuntu/home/sasha/WSLProjects/sem_simulator/test_yaml.ipynb#X14sdnNjb2RlLXJlbW90ZQ%3D%3D?line=2'>3</a>\u001b[0m parser\u001b[39m.\u001b[39madd_argument(\u001b[39m'\u001b[39m\u001b[39m--test_dataset_name\u001b[39m\u001b[39m'\u001b[39m, \u001b[39mtype\u001b[39m\u001b[39m=\u001b[39m\u001b[39mstr\u001b[39m, default\u001b[39m=\u001b[39m\u001b[39m'\u001b[39m\u001b[39mreal3\u001b[39m\u001b[39m'\u001b[39m, help\u001b[39m=\u001b[39m\u001b[39m'\u001b[39m\u001b[39mtest set, bsd68 | set12 | G-123 | G46 | b2u_g123_stride200\u001b[39m\u001b[39m'\u001b[39m)\n",
      "\u001b[0;31mNameError\u001b[0m: name 'argparse' is not defined"
     ]
    }
   ],
   "source": [
    "parser = argparse.ArgumentParser()\n",
    "parser.add_argument('--model_name', type=str, default='scunet_color_real_psnr', help='scunet_color_real_psnr, scunet_color_real_gan')\n",
    "parser.add_argument('--test_dataset_name', type=str, default='real3', help='test set, bsd68 | set12 | G-123 | G46 | b2u_g123_stride200')\n",
    "parser.add_argument('--show_img', type=bool, default=False, help='show the image')\n",
    "parser.add_argument('--model_zoo', type=str, default='./model_zoo', help='path of model_zoo')\n",
    "parser.add_argument('--test_dir', type=str, default='./data/test', help='path of testing folder')\n",
    "parser.add_argument('--results', type=str, default='./results', help='path of results')\n",
    "\n"
   ]
  },
  {
   "cell_type": "code",
   "execution_count": 185,
   "metadata": {},
   "outputs": [],
   "source": [
    "import argparse"
   ]
  },
  {
   "cell_type": "code",
   "execution_count": 192,
   "metadata": {},
   "outputs": [
    {
     "data": {
      "text/plain": [
       "_StoreAction(option_strings=['--figures'], dest='figures', nargs='+', const=None, default=None, type=None, choices=None, required=False, help='Фигуры, расположенные в свободном пространстве', metavar=None)"
      ]
     },
     "execution_count": 192,
     "metadata": {},
     "output_type": "execute_result"
    }
   ],
   "source": [
    "parser = argparse.ArgumentParser()\n",
    "parser.add_argument('--resolution', nargs='+', help='Разрешение маски: LowResolution для 768x1024 или HighResolution для 4096x6144')\n",
    "parser.add_argument('--frame', nargs='+', help='Фигуры, из которых состоит рамка. Сначала угловые, затем массивы.')\n",
    "parser.add_argument('--center', nargs='+', help='Изображения в центре рамки  и их количество')\n",
    "parser.add_argument('--figures', nargs='+', help='Фигуры, расположенные в свободном пространстве')\n"
   ]
  },
  {
   "cell_type": "code",
   "execution_count": 203,
   "metadata": {},
   "outputs": [],
   "source": [
    "opt = parser.parse_args([\n",
    "                        '--resolution', 'LowResolution',\n",
    "                        '--frame', 'BigCircle', 'SmallCircle',\n",
    "                        '--center', 'BigCircle', '4'\n",
    "                        ])"
   ]
  },
  {
   "cell_type": "code",
   "execution_count": 204,
   "metadata": {},
   "outputs": [
    {
     "data": {
      "text/plain": [
       "[{'image': 'LowResolution', 'image_size_params': {'h': 768, 'w': 1024}},\n",
       " {'image': 'HighResolution', 'image_size_params': {'h': 4096, 'w': 6144}}]"
      ]
     },
     "execution_count": 204,
     "metadata": {},
     "output_type": "execute_result"
    }
   ],
   "source": [
    "data['image_size_conf']"
   ]
  },
  {
   "cell_type": "code",
   "execution_count": 222,
   "metadata": {},
   "outputs": [],
   "source": [
    "if opt.resolution is not None:\n",
    "    for resol in data['image_size_conf']:\n",
    "        if resol['image'] == opt.resolution:\n",
    "            img = np.zeros((resol['image']['image_size_params'].h, resol['image']['image_size_params'].w), dtype=np.float32)\n",
    "\n",
    "\n",
    "frame_els = []\n",
    "if opt.frame is not None:\n",
    "    for class_name in opt.frame:\n",
    "        for figure in data['figures']:\n",
    "            if figure['FigureClass'] == class_name:\n",
    "                frame_els.append(Figure(figure))\n",
    "\n",
    "\n",
    "center_figures = []\n",
    "num_figures = []\n",
    "if opt.center is not None:\n",
    "    i = 0\n",
    "    while i < len(opt.center):\n",
    "        for figure in data['figures']:\n",
    "            if figure['FigureClass'] == opt.center[i]:\n",
    "                center_figures.append(Figure(figure))\n",
    "                num_figures.append(int(opt.center[i+1]))\n",
    "        i = i + 2"
   ]
  },
  {
   "cell_type": "code",
   "execution_count": 223,
   "metadata": {},
   "outputs": [
    {
     "data": {
      "text/plain": [
       "[4]"
      ]
     },
     "execution_count": 223,
     "metadata": {},
     "output_type": "execute_result"
    }
   ],
   "source": [
    "num_figures"
   ]
  },
  {
   "cell_type": "code",
   "execution_count": 211,
   "metadata": {},
   "outputs": [
    {
     "data": {
      "text/plain": [
       "2"
      ]
     },
     "execution_count": 211,
     "metadata": {},
     "output_type": "execute_result"
    }
   ],
   "source": [
    "len(opt.center)"
   ]
  },
  {
   "cell_type": "code",
   "execution_count": 206,
   "metadata": {},
   "outputs": [
    {
     "data": {
      "text/plain": [
       "['BigCircle', 'SmallCircle']"
      ]
     },
     "execution_count": 206,
     "metadata": {},
     "output_type": "execute_result"
    }
   ],
   "source": [
    "opt.frame"
   ]
  },
  {
   "cell_type": "code",
   "execution_count": 199,
   "metadata": {},
   "outputs": [
    {
     "name": "stdout",
     "output_type": "stream",
     "text": [
      "blyat\n"
     ]
    }
   ],
   "source": [
    "for figure in data['image_size_conf']:\n",
    "    if figure['image'] in opt.resolution:\n",
    "        print('blyat')"
   ]
  },
  {
   "cell_type": "code",
   "execution_count": 97,
   "metadata": {},
   "outputs": [
    {
     "data": {
      "text/plain": [
       "((488, 744), (140, 140))"
      ]
     },
     "execution_count": 97,
     "metadata": {},
     "output_type": "execute_result"
    }
   ],
   "source": [
    "frame1_size, start_center"
   ]
  },
  {
   "cell_type": "code",
   "execution_count": 73,
   "metadata": {},
   "outputs": [
    {
     "data": {
      "text/plain": [
       "(1024, 6144)"
      ]
     },
     "execution_count": 73,
     "metadata": {},
     "output_type": "execute_result"
    }
   ],
   "source": [
    "img.shape"
   ]
  },
  {
   "cell_type": "code",
   "execution_count": 24,
   "metadata": {},
   "outputs": [],
   "source": [
    "parser = [\"SmallCircle\", \"BigCircle\"]"
   ]
  },
  {
   "cell_type": "code",
   "execution_count": 69,
   "metadata": {},
   "outputs": [
    {
     "name": "stdout",
     "output_type": "stream",
     "text": [
      "20\n"
     ]
    },
    {
     "data": {
      "image/png": "[encoded data removed]",
      "text/plain": [
       "<Figure size 640x480 with 1 Axes>"
      ]
     },
     "metadata": {},
     "output_type": "display_data"
    }
   ],
   "source": [
    "# # Меняем параметры на лету (пример изменения радиуса маленьких кружков)\n",
    "# for figure in data['figures']:\n",
    "#     if figure['class'] == \"SmallCircle\":\n",
    "#         figure['parameters']['radius'] = 15  # Новый радиус\n",
    "\n",
    "# Отрисовка фигур с измененными параметрами\n",
    "# draw_frame(data['figures'][\"BigCircle\"], data['figures'][\"SmallCircle\"])\n",
    "draw_frame(data['figures'][0], data['figures'][1])\n",
    "\n",
    "\n",
    "# for figure in data['figures']:\n",
    "#     if figure['FigureClass'] in parser:\n",
    "        \n",
    "#         if figure['FigureClass'] == \"SmallCircle\" or figure['figure_params'] == \"BigCircle\":\n",
    "            \n",
    "#             # print(figure['FigureClass'])\n",
    "#             classs = figure\n",
    "#             print(classs['figure_params']['radius'])\n",
    "#             draw_circle(figure['figure_params']['radius'], (figure['figure_params']['position_x'], figure['figure_params']['position_y']), figure['figure_params']['color'])\n",
    "        # elif figure['class'] == \"большие квадраты\":\n",
    "        #     draw_square(figure['parameters']['side_length'], figure['parameters']['corner_radius'])\n"
   ]
  },
  {
   "cell_type": "code",
   "execution_count": 68,
   "metadata": {},
   "outputs": [
    {
     "data": {
      "text/plain": [
       "50"
      ]
     },
     "execution_count": 68,
     "metadata": {},
     "output_type": "execute_result"
    }
   ],
   "source": [
    "figure['figure_params']['radius']"
   ]
  },
  {
   "cell_type": "code",
   "execution_count": null,
   "metadata": {},
   "outputs": [],
   "source": []
  },
  {
   "cell_type": "code",
   "execution_count": null,
   "metadata": {},
   "outputs": [],
   "source": [
    "class = figure['FigureClass']"
   ]
  },
  {
   "cell_type": "code",
   "execution_count": null,
   "metadata": {},
   "outputs": [],
   "source": [
    "\\\\wsl.localhost\\Ubuntu\\home\\sasha\\WSLProjects\\metrics\\input_data"
   ]
  },
  {
   "cell_type": "code",
   "execution_count": 28,
   "metadata": {},
   "outputs": [
    {
     "data": {
      "text/plain": [
       "'/home/sasha/WSLProjects/metrics/input_data'"
      ]
     },
     "execution_count": 28,
     "metadata": {},
     "output_type": "execute_result"
    }
   ],
   "source": [
    "dir = '/home/sasha/WSLProjects/metrics/input_data'"
   ]
  },
  {
   "cell_type": "code",
   "execution_count": null,
   "metadata": {},
   "outputs": [],
   "source": []
  }
 ],
 "metadata": {
  "kernelspec": {
   "display_name": "Python 3",
   "language": "python",
   "name": "python3"
  },
  "language_info": {
   "codemirror_mode": {
    "name": "ipython",
    "version": 3
   },
   "file_extension": ".py",
   "mimetype": "text/x-python",
   "name": "python",
   "nbconvert_exporter": "python",
   "pygments_lexer": "ipython3",
   "version": "3.10.12"
  },
  "orig_nbformat": 4
 },
 "nbformat": 4,
 "nbformat_minor": 2
}
